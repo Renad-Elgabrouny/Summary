{
 "cells": [
  {
   "cell_type": "markdown",
   "metadata": {},
   "source": [
    "# import libraries"
   ]
  },
  {
   "cell_type": "code",
   "execution_count": 2,
   "metadata": {
    "_cell_guid": "b1076dfc-b9ad-4769-8c92-a6c4dae69d19",
    "_uuid": "8f2839f25d086af736a60e9eeb907d3b93b6e0e5",
    "execution": {
     "iopub.execute_input": "2024-08-15T16:44:55.373936Z",
     "iopub.status.busy": "2024-08-15T16:44:55.373460Z",
     "iopub.status.idle": "2024-08-15T16:44:55.388808Z",
     "shell.execute_reply": "2024-08-15T16:44:55.386753Z",
     "shell.execute_reply.started": "2024-08-15T16:44:55.373901Z"
    }
   },
   "outputs": [],
   "source": [
    "import pandas as pd # data processing \n",
    "import seaborn as sns\n",
    "import matplotlib.pyplot as plt\n",
    "import datetime as dt\n",
    "import warnings\n",
    "warnings.filterwarnings('ignore')\n"
   ]
  },
  {
   "cell_type": "markdown",
   "metadata": {},
   "source": [
    "# Content of the Notebook:\n",
    "* Duplicated Data\n",
    "* Dealing with missing values\n",
    "* data types\n",
    "* out of range values\n",
    "* unique inconsistency\n",
    "* Dealing with Dates"
   ]
  },
  {
   "cell_type": "code",
   "execution_count": 3,
   "metadata": {
    "execution": {
     "iopub.execute_input": "2024-08-15T16:44:55.810080Z",
     "iopub.status.busy": "2024-08-15T16:44:55.809610Z",
     "iopub.status.idle": "2024-08-15T16:44:56.065644Z",
     "shell.execute_reply": "2024-08-15T16:44:56.064282Z",
     "shell.execute_reply.started": "2024-08-15T16:44:55.809994Z"
    }
   },
   "outputs": [],
   "source": [
    "#read data\n",
    "data=pd.read_csv(\"motors (4).csv\")"
   ]
  },
  {
   "cell_type": "code",
   "execution_count": 4,
   "metadata": {
    "execution": {
     "iopub.execute_input": "2024-08-15T16:44:56.148896Z",
     "iopub.status.busy": "2024-08-15T16:44:56.148512Z",
     "iopub.status.idle": "2024-08-15T16:44:56.174581Z",
     "shell.execute_reply": "2024-08-15T16:44:56.173201Z",
     "shell.execute_reply.started": "2024-08-15T16:44:56.148865Z"
    }
   },
   "outputs": [
    {
     "data": {
      "text/html": [
       "<div>\n",
       "<style scoped>\n",
       "    .dataframe tbody tr th:only-of-type {\n",
       "        vertical-align: middle;\n",
       "    }\n",
       "\n",
       "    .dataframe tbody tr th {\n",
       "        vertical-align: top;\n",
       "    }\n",
       "\n",
       "    .dataframe thead th {\n",
       "        text-align: right;\n",
       "    }\n",
       "</style>\n",
       "<table border=\"1\" class=\"dataframe\">\n",
       "  <thead>\n",
       "    <tr style=\"text-align: right;\">\n",
       "      <th></th>\n",
       "      <th>Unnamed: 0</th>\n",
       "      <th>Brand</th>\n",
       "      <th>Model</th>\n",
       "      <th>Year</th>\n",
       "      <th>Category</th>\n",
       "      <th>Displacement (ccm)</th>\n",
       "      <th>Power (hp)</th>\n",
       "      <th>Engine cylinder</th>\n",
       "      <th>Engine stroke</th>\n",
       "      <th>Gearbox</th>\n",
       "      <th>Fuel capacity (lts)</th>\n",
       "      <th>Fuel system</th>\n",
       "      <th>Fuel control</th>\n",
       "      <th>Cooling system</th>\n",
       "      <th>Transmission type</th>\n",
       "      <th>Gearbox_types</th>\n",
       "    </tr>\n",
       "  </thead>\n",
       "  <tbody>\n",
       "    <tr>\n",
       "      <th>0</th>\n",
       "      <td>0</td>\n",
       "      <td>acabion</td>\n",
       "      <td>da vinci 650-vi</td>\n",
       "      <td>2011</td>\n",
       "      <td>Prototype / concept model</td>\n",
       "      <td>NaN</td>\n",
       "      <td>804.0</td>\n",
       "      <td>Electric</td>\n",
       "      <td>Electric</td>\n",
       "      <td>6.0</td>\n",
       "      <td>13.5</td>\n",
       "      <td>Carburettor</td>\n",
       "      <td>NaN</td>\n",
       "      <td>Liquids</td>\n",
       "      <td>Chain</td>\n",
       "      <td>Manual</td>\n",
       "    </tr>\n",
       "    <tr>\n",
       "      <th>1</th>\n",
       "      <td>1</td>\n",
       "      <td>acabion</td>\n",
       "      <td>gtbo 55</td>\n",
       "      <td>2007</td>\n",
       "      <td>Sport</td>\n",
       "      <td>1300.0</td>\n",
       "      <td>541.0</td>\n",
       "      <td>In-line four</td>\n",
       "      <td>four-stroke</td>\n",
       "      <td>6.0</td>\n",
       "      <td>13.5</td>\n",
       "      <td>Turbo. KKK Acabion Extended</td>\n",
       "      <td>NaN</td>\n",
       "      <td>Liquids</td>\n",
       "      <td>Chain</td>\n",
       "      <td>Manual</td>\n",
       "    </tr>\n",
       "    <tr>\n",
       "      <th>2</th>\n",
       "      <td>2</td>\n",
       "      <td>acabion</td>\n",
       "      <td>gtbo 600 daytona-vi</td>\n",
       "      <td>2011</td>\n",
       "      <td>Prototype / concept model</td>\n",
       "      <td>NaN</td>\n",
       "      <td>536.0</td>\n",
       "      <td>Electric</td>\n",
       "      <td>Electric</td>\n",
       "      <td>6.0</td>\n",
       "      <td>13.5</td>\n",
       "      <td>Carburettor</td>\n",
       "      <td>NaN</td>\n",
       "      <td>Liquids</td>\n",
       "      <td>Chain</td>\n",
       "      <td>Manual</td>\n",
       "    </tr>\n",
       "    <tr>\n",
       "      <th>3</th>\n",
       "      <td>3</td>\n",
       "      <td>acabion</td>\n",
       "      <td>gtbo 600 daytona-vi</td>\n",
       "      <td>2021</td>\n",
       "      <td>Prototype / concept model</td>\n",
       "      <td>NaN</td>\n",
       "      <td>536.0</td>\n",
       "      <td>Electric</td>\n",
       "      <td>Electric</td>\n",
       "      <td>6.0</td>\n",
       "      <td>13.5</td>\n",
       "      <td>Carburettor</td>\n",
       "      <td>NaN</td>\n",
       "      <td>Liquids</td>\n",
       "      <td>Chain</td>\n",
       "      <td>Manual</td>\n",
       "    </tr>\n",
       "    <tr>\n",
       "      <th>4</th>\n",
       "      <td>4</td>\n",
       "      <td>acabion</td>\n",
       "      <td>gtbo 70</td>\n",
       "      <td>2007</td>\n",
       "      <td>Prototype / concept model</td>\n",
       "      <td>1300.0</td>\n",
       "      <td>689.0</td>\n",
       "      <td>In-line four</td>\n",
       "      <td>four-stroke</td>\n",
       "      <td>6.0</td>\n",
       "      <td>13.5</td>\n",
       "      <td>Turbo. KKK Acabion Extended</td>\n",
       "      <td>NaN</td>\n",
       "      <td>Liquids</td>\n",
       "      <td>Chain</td>\n",
       "      <td>Manual</td>\n",
       "    </tr>\n",
       "  </tbody>\n",
       "</table>\n",
       "</div>"
      ],
      "text/plain": [
       "   Unnamed: 0    Brand                Model  Year                   Category  \\\n",
       "0           0  acabion      da vinci 650-vi  2011  Prototype / concept model   \n",
       "1           1  acabion              gtbo 55  2007                      Sport   \n",
       "2           2  acabion  gtbo 600 daytona-vi  2011  Prototype / concept model   \n",
       "3           3  acabion  gtbo 600 daytona-vi  2021  Prototype / concept model   \n",
       "4           4  acabion              gtbo 70  2007  Prototype / concept model   \n",
       "\n",
       "   Displacement (ccm)  Power (hp) Engine cylinder Engine stroke  Gearbox  \\\n",
       "0                 NaN       804.0        Electric      Electric      6.0   \n",
       "1              1300.0       541.0    In-line four   four-stroke      6.0   \n",
       "2                 NaN       536.0        Electric      Electric      6.0   \n",
       "3                 NaN       536.0        Electric      Electric      6.0   \n",
       "4              1300.0       689.0    In-line four   four-stroke      6.0   \n",
       "\n",
       "   Fuel capacity (lts)                  Fuel system Fuel control  \\\n",
       "0                 13.5                  Carburettor          NaN   \n",
       "1                 13.5  Turbo. KKK Acabion Extended          NaN   \n",
       "2                 13.5                  Carburettor          NaN   \n",
       "3                 13.5                  Carburettor          NaN   \n",
       "4                 13.5  Turbo. KKK Acabion Extended          NaN   \n",
       "\n",
       "  Cooling system Transmission type Gearbox_types  \n",
       "0        Liquids             Chain        Manual  \n",
       "1        Liquids             Chain        Manual  \n",
       "2        Liquids             Chain        Manual  \n",
       "3        Liquids             Chain        Manual  \n",
       "4        Liquids             Chain        Manual  "
      ]
     },
     "execution_count": 4,
     "metadata": {},
     "output_type": "execute_result"
    }
   ],
   "source": [
    "# see the first 5 rows of the data\n",
    "data.head()"
   ]
  },
  {
   "cell_type": "code",
   "execution_count": 5,
   "metadata": {
    "execution": {
     "iopub.execute_input": "2024-08-15T16:44:57.932209Z",
     "iopub.status.busy": "2024-08-15T16:44:57.931681Z",
     "iopub.status.idle": "2024-08-15T16:44:57.995045Z",
     "shell.execute_reply": "2024-08-15T16:44:57.992946Z",
     "shell.execute_reply.started": "2024-08-15T16:44:57.932166Z"
    }
   },
   "outputs": [
    {
     "name": "stdout",
     "output_type": "stream",
     "text": [
      "<class 'pandas.core.frame.DataFrame'>\n",
      "RangeIndex: 38504 entries, 0 to 38503\n",
      "Data columns (total 16 columns):\n",
      " #   Column               Non-Null Count  Dtype  \n",
      "---  ------               --------------  -----  \n",
      " 0   Unnamed: 0           38504 non-null  int64  \n",
      " 1   Brand                38504 non-null  object \n",
      " 2   Model                38504 non-null  object \n",
      " 3   Year                 38504 non-null  object \n",
      " 4   Category             38504 non-null  object \n",
      " 5   Displacement (ccm)   37475 non-null  float64\n",
      " 6   Power (hp)           38504 non-null  float64\n",
      " 7   Engine cylinder      38499 non-null  object \n",
      " 8   Engine stroke        38504 non-null  object \n",
      " 9   Gearbox              38504 non-null  float64\n",
      " 10  Fuel capacity (lts)  38504 non-null  float64\n",
      " 11  Fuel system          38504 non-null  object \n",
      " 12  Fuel control         22032 non-null  object \n",
      " 13  Cooling system       38504 non-null  object \n",
      " 14  Transmission type    38504 non-null  object \n",
      " 15  Gearbox_types        38504 non-null  object \n",
      "dtypes: float64(4), int64(1), object(11)\n",
      "memory usage: 4.7+ MB\n"
     ]
    }
   ],
   "source": [
    "data.info()# used get a quick description of the data"
   ]
  },
  {
   "cell_type": "markdown",
   "metadata": {},
   "source": [
    "What we noticed :\n",
    "* there is unnamed : 0 column which means that occur when loading a CSV file after saving it it is like an index for each row\n",
    "* Year column the data type of it need to be changed into int\n",
    "* Displacement (ccm) , Engine cylinder  and Fuel control columns contain  null values"
   ]
  },
  {
   "cell_type": "markdown",
   "metadata": {},
   "source": [
    "# Duplicated Data"
   ]
  },
  {
   "cell_type": "code",
   "execution_count": 6,
   "metadata": {
    "execution": {
     "iopub.execute_input": "2024-08-15T16:45:08.885278Z",
     "iopub.status.busy": "2024-08-15T16:45:08.884718Z",
     "iopub.status.idle": "2024-08-15T16:45:08.962714Z",
     "shell.execute_reply": "2024-08-15T16:45:08.961328Z",
     "shell.execute_reply.started": "2024-08-15T16:45:08.885236Z"
    }
   },
   "outputs": [
    {
     "data": {
      "text/plain": [
       "0"
      ]
     },
     "execution_count": 6,
     "metadata": {},
     "output_type": "execute_result"
    }
   ],
   "source": [
    "data.duplicated().sum()\n",
    "# there is no duplicated data as there is column called unnamed 0 contains unique values it is better to drop it as it is not important\n",
    "# but let us not drop it and know how to know the duplicated data using subset of features"
   ]
  },
  {
   "cell_type": "code",
   "execution_count": 7,
   "metadata": {
    "execution": {
     "iopub.execute_input": "2024-08-15T16:45:08.965506Z",
     "iopub.status.busy": "2024-08-15T16:45:08.965045Z",
     "iopub.status.idle": "2024-08-15T16:45:09.039438Z",
     "shell.execute_reply": "2024-08-15T16:45:09.037704Z",
     "shell.execute_reply.started": "2024-08-15T16:45:08.965466Z"
    }
   },
   "outputs": [
    {
     "data": {
      "text/plain": [
       "8"
      ]
     },
     "execution_count": 7,
     "metadata": {},
     "output_type": "execute_result"
    }
   ],
   "source": [
    "# there is now 8 row the is duplicated so we will drop them\n",
    "data.duplicated(subset=['Brand', 'Model', 'Year', 'Category', 'Displacement (ccm)', 'Power (hp)', 'Engine cylinder', 'Engine stroke', 'Gearbox', 'Fuel capacity (lts)', 'Fuel system', 'Cooling system', 'Transmission type', 'Gearbox_types']).sum()"
   ]
  },
  {
   "cell_type": "code",
   "execution_count": 8,
   "metadata": {
    "execution": {
     "iopub.execute_input": "2024-08-15T16:45:09.041627Z",
     "iopub.status.busy": "2024-08-15T16:45:09.041117Z",
     "iopub.status.idle": "2024-08-15T16:45:09.118082Z",
     "shell.execute_reply": "2024-08-15T16:45:09.116636Z",
     "shell.execute_reply.started": "2024-08-15T16:45:09.041578Z"
    }
   },
   "outputs": [],
   "source": [
    "data.drop_duplicates(subset=['Brand', 'Model', 'Year', 'Category', 'Displacement (ccm)', 'Power (hp)', 'Engine cylinder', 'Engine stroke', 'Gearbox', 'Fuel capacity (lts)', 'Fuel system', 'Cooling system', 'Transmission type', 'Gearbox_types'],inplace=True)"
   ]
  },
  {
   "cell_type": "code",
   "execution_count": 9,
   "metadata": {
    "execution": {
     "iopub.execute_input": "2024-08-15T16:45:09.121734Z",
     "iopub.status.busy": "2024-08-15T16:45:09.121168Z",
     "iopub.status.idle": "2024-08-15T16:45:09.198764Z",
     "shell.execute_reply": "2024-08-15T16:45:09.197055Z",
     "shell.execute_reply.started": "2024-08-15T16:45:09.121682Z"
    }
   },
   "outputs": [
    {
     "data": {
      "text/plain": [
       "0"
      ]
     },
     "execution_count": 9,
     "metadata": {},
     "output_type": "execute_result"
    }
   ],
   "source": [
    "# To check\n",
    "data.duplicated(subset=['Brand', 'Model', 'Year', 'Category', 'Displacement (ccm)', 'Power (hp)', 'Engine cylinder', 'Engine stroke', 'Gearbox', 'Fuel capacity (lts)', 'Fuel system', 'Cooling system', 'Transmission type', 'Gearbox_types']).sum()"
   ]
  },
  {
   "cell_type": "markdown",
   "metadata": {},
   "source": [
    "# Dealing with missing values"
   ]
  },
  {
   "cell_type": "markdown",
   "metadata": {},
   "source": [
    "### there are 3 techniques to deal with missing values :\n",
    "1. if the missing values are too much and the column is not important fro me -> it is better to drop the column\n",
    "2. if the missing values are too small -> it is good to drop the missing values \n",
    "3. if the missing values are greater than 5% -> we need to impute them with one of these (mean,median,mode) each has its case "
   ]
  },
  {
   "cell_type": "code",
   "execution_count": 10,
   "metadata": {
    "execution": {
     "iopub.execute_input": "2024-08-15T16:45:09.202307Z",
     "iopub.status.busy": "2024-08-15T16:45:09.201614Z",
     "iopub.status.idle": "2024-08-15T16:45:09.262118Z",
     "shell.execute_reply": "2024-08-15T16:45:09.260817Z",
     "shell.execute_reply.started": "2024-08-15T16:45:09.202216Z"
    }
   },
   "outputs": [
    {
     "data": {
      "text/plain": [
       "Unnamed: 0              0.000000\n",
       "Brand                   0.000000\n",
       "Model                   0.000000\n",
       "Year                    0.000000\n",
       "Category                0.000000\n",
       "Displacement (ccm)      2.673005\n",
       "Power (hp)              0.000000\n",
       "Engine cylinder         0.012988\n",
       "Engine stroke           0.000000\n",
       "Gearbox                 0.000000\n",
       "Fuel capacity (lts)     0.000000\n",
       "Fuel system             0.000000\n",
       "Fuel control           42.775873\n",
       "Cooling system          0.000000\n",
       "Transmission type       0.000000\n",
       "Gearbox_types           0.000000\n",
       "dtype: float64"
      ]
     },
     "execution_count": 10,
     "metadata": {},
     "output_type": "execute_result"
    }
   ],
   "source": [
    " # this code returns percentage of missing values in each column\n",
    "data.isna().sum()/len(data)*100"
   ]
  },
  {
   "cell_type": "markdown",
   "metadata": {},
   "source": [
    "What we noticed :\n",
    "* Displacement (ccm) consists of 2.7% missing values which we impute it using mean or median\n",
    "* Engine cylinder consists of 0.01% missing values which we can drop those null values it wont affect\n",
    "* Fuel Control consists of 43% missing values which too big so it is better to drop the column than imputing the missing values\n"
   ]
  },
  {
   "cell_type": "markdown",
   "metadata": {},
   "source": [
    "## Case 3"
   ]
  },
  {
   "cell_type": "code",
   "execution_count": 12,
   "metadata": {
    "execution": {
     "iopub.execute_input": "2024-08-15T16:45:09.345911Z",
     "iopub.status.busy": "2024-08-15T16:45:09.345472Z",
     "iopub.status.idle": "2024-08-15T16:45:10.044466Z",
     "shell.execute_reply": "2024-08-15T16:45:10.043264Z",
     "shell.execute_reply.started": "2024-08-15T16:45:09.345878Z"
    }
   },
   "outputs": [
    {
     "data": {
      "text/plain": [
       "<Axes: xlabel='Displacement (ccm)', ylabel='Count'>"
      ]
     },
     "execution_count": 12,
     "metadata": {},
     "output_type": "execute_result"
    },
    {
     "data": {
      "image/png": "[encoded data removed]",
      "text/plain": [
       "<Figure size 640x480 with 1 Axes>"
      ]
     },
     "metadata": {},
     "output_type": "display_data"
    }
   ],
   "source": [
    "# there is skewness in the data so it is better to impute the null values with median rather than mean\n",
    "sns.histplot(data=data,x='Displacement (ccm)')"
   ]
  },
  {
   "cell_type": "code",
   "execution_count": 13,
   "metadata": {
    "execution": {
     "iopub.execute_input": "2024-08-15T16:45:10.047626Z",
     "iopub.status.busy": "2024-08-15T16:45:10.047125Z",
     "iopub.status.idle": "2024-08-15T16:45:10.056626Z",
     "shell.execute_reply": "2024-08-15T16:45:10.055086Z",
     "shell.execute_reply.started": "2024-08-15T16:45:10.047564Z"
    }
   },
   "outputs": [],
   "source": [
    " # impute the null values with median\n",
    "data['Displacement (ccm)'].fillna(data['Displacement (ccm)'].median(),inplace=True)"
   ]
  },
  {
   "cell_type": "markdown",
   "metadata": {},
   "source": [
    "## Case 2"
   ]
  },
  {
   "cell_type": "code",
   "execution_count": 14,
   "metadata": {
    "execution": {
     "iopub.execute_input": "2024-08-15T16:45:10.058834Z",
     "iopub.status.busy": "2024-08-15T16:45:10.058479Z",
     "iopub.status.idle": "2024-08-15T16:45:10.077676Z",
     "shell.execute_reply": "2024-08-15T16:45:10.076203Z",
     "shell.execute_reply.started": "2024-08-15T16:45:10.058804Z"
    }
   },
   "outputs": [
    {
     "data": {
      "text/plain": [
       "5"
      ]
     },
     "execution_count": 14,
     "metadata": {},
     "output_type": "execute_result"
    }
   ],
   "source": [
    " # we can drop the null values it wont affect\n",
    "data['Engine cylinder'].isna().sum()"
   ]
  },
  {
   "cell_type": "code",
   "execution_count": 15,
   "metadata": {
    "execution": {
     "iopub.execute_input": "2024-08-15T16:45:10.081255Z",
     "iopub.status.busy": "2024-08-15T16:45:10.080646Z",
     "iopub.status.idle": "2024-08-15T16:45:10.104661Z",
     "shell.execute_reply": "2024-08-15T16:45:10.103184Z",
     "shell.execute_reply.started": "2024-08-15T16:45:10.081208Z"
    }
   },
   "outputs": [],
   "source": [
    "data.dropna(subset=['Engine cylinder'],inplace=True)"
   ]
  },
  {
   "cell_type": "markdown",
   "metadata": {},
   "source": [
    "## Case 1"
   ]
  },
  {
   "cell_type": "code",
   "execution_count": 16,
   "metadata": {
    "execution": {
     "iopub.execute_input": "2024-08-15T16:45:10.143679Z",
     "iopub.status.busy": "2024-08-15T16:45:10.143284Z",
     "iopub.status.idle": "2024-08-15T16:45:10.156687Z",
     "shell.execute_reply": "2024-08-15T16:45:10.155279Z",
     "shell.execute_reply.started": "2024-08-15T16:45:10.143647Z"
    }
   },
   "outputs": [
    {
     "data": {
      "text/plain": [
       "42.7814294250604"
      ]
     },
     "execution_count": 16,
     "metadata": {},
     "output_type": "execute_result"
    }
   ],
   "source": [
    " # it is about 43 it is better to drop the column\n",
    "data['Fuel control'].isna().sum()/len(data)*100"
   ]
  },
  {
   "cell_type": "code",
   "execution_count": 17,
   "metadata": {
    "execution": {
     "iopub.execute_input": "2024-08-15T16:45:10.285370Z",
     "iopub.status.busy": "2024-08-15T16:45:10.284921Z",
     "iopub.status.idle": "2024-08-15T16:45:10.299085Z",
     "shell.execute_reply": "2024-08-15T16:45:10.297496Z",
     "shell.execute_reply.started": "2024-08-15T16:45:10.285335Z"
    }
   },
   "outputs": [],
   "source": [
    " # dropping the column\n",
    "data.drop(['Fuel control'],axis=1,inplace=True)"
   ]
  },
  {
   "cell_type": "code",
   "execution_count": 18,
   "metadata": {
    "execution": {
     "iopub.execute_input": "2024-08-15T16:45:10.572805Z",
     "iopub.status.busy": "2024-08-15T16:45:10.572382Z",
     "iopub.status.idle": "2024-08-15T16:45:10.626831Z",
     "shell.execute_reply": "2024-08-15T16:45:10.625562Z",
     "shell.execute_reply.started": "2024-08-15T16:45:10.572771Z"
    }
   },
   "outputs": [
    {
     "data": {
      "text/plain": [
       "Unnamed: 0             0\n",
       "Brand                  0\n",
       "Model                  0\n",
       "Year                   0\n",
       "Category               0\n",
       "Displacement (ccm)     0\n",
       "Power (hp)             0\n",
       "Engine cylinder        0\n",
       "Engine stroke          0\n",
       "Gearbox                0\n",
       "Fuel capacity (lts)    0\n",
       "Fuel system            0\n",
       "Cooling system         0\n",
       "Transmission type      0\n",
       "Gearbox_types          0\n",
       "dtype: int64"
      ]
     },
     "execution_count": 18,
     "metadata": {},
     "output_type": "execute_result"
    }
   ],
   "source": [
    "#lets check \n",
    "data.isna().sum()\n",
    "# now all is well :)"
   ]
  },
  {
   "cell_type": "markdown",
   "metadata": {},
   "source": [
    "# Data Types"
   ]
  },
  {
   "cell_type": "code",
   "execution_count": 19,
   "metadata": {
    "execution": {
     "iopub.execute_input": "2024-08-15T16:45:11.087920Z",
     "iopub.status.busy": "2024-08-15T16:45:11.087492Z",
     "iopub.status.idle": "2024-08-15T16:45:11.101033Z",
     "shell.execute_reply": "2024-08-15T16:45:11.099548Z",
     "shell.execute_reply.started": "2024-08-15T16:45:11.087888Z"
    }
   },
   "outputs": [
    {
     "data": {
      "text/plain": [
       "array(['2011', '2007', '2021', '2016', '2018', '2020', '2022', '1923',\n",
       "       '1924', '1925', '1926', '1927', '2009', '2010', '2014', '2008',\n",
       "       '2019', '2012', '2013', '2040', '1957', '1958', '1955', '1956',\n",
       "       '1952', '1953', '1954', '1959', '1960', '2077', '2003', '3019',\n",
       "       '1961', '1962', '1963', '1964', '1965', '1966', '1967', '1968',\n",
       "       '1969', '1971', '1972', '1970', '1974', '1962 CE', '1963 CE',\n",
       "       '2005', '2015', '2018 CE', '2006', '1922', '1928', '1949', '1950',\n",
       "       '1951', '2001', '2017', '1986', '1999', '1985', '1987', '1996',\n",
       "       '1991', '1988', '1989', '1990', '1992', '2004', '2002', '1997',\n",
       "       '1998', '2000', '1993', '1984', '1995', '1948', '1937', '1938',\n",
       "       '1931', '1901', '1902', '1903', '1913', '1914', '1915', '1916',\n",
       "       '1918', '1932', '1933', '1934', '1935', '1936', '1939', '1940',\n",
       "       '1941', '1942', '1943', '1944', '1945', '1946', '1947', '1898',\n",
       "       '1910', '1929', '1975', '1976', '1973', '1977', '1978', '1979',\n",
       "       '1980', '1982', '1983', '1981', '1917', '1919', '1994', '1930',\n",
       "       '1897', '1920', '1921', '1899', '1900', '1904', '1896', '1911',\n",
       "       '1912', '1909', '1905', '1906', '1907', '1908', '1894', '1895',\n",
       "       1998, 1999, 2000, 2001, 2002, 2003, 1991, 1992, 1970, 1995, 1996,\n",
       "       1997, 2013, 2014, 2016, 2017, 2015, 1982, 1983, 2021, 2022, 2020,\n",
       "       1977, 2009, 2010, 2011, 2019, 2008, 2012, 2007, 2006, 2018, 1994,\n",
       "       1973, 1974, 1975, 1993, 1987, 1988, 1989, 1990, 1971, 1972, 1976,\n",
       "       1978, 1979, 1980, 2005, 1938, 1939, 1940, 1941, 1942, 1943, 1944,\n",
       "       1945, 1946, 1947, 1948, 1949, 1950, 1959, 1934, 1935, 1936, 1937,\n",
       "       1951, 1952, 1953, 1954, 1955, 1956, 1957, 1958, 1964, 1965, 1966,\n",
       "       1967, 1968, 1969, 1960, 1961, 1962, 1963, 2004, 1897, 1913, 1914,\n",
       "       1984, 1981, 1985, 1986, 1925, 1926, 1927, 1928, 1933, 1924, 1922,\n",
       "       1923, 1921, 1929], dtype=object)"
      ]
     },
     "execution_count": 19,
     "metadata": {},
     "output_type": "execute_result"
    }
   ],
   "source": [
    "data['Year'].unique()\n",
    "# i notice that there is future year 2040 which is unlogical\n",
    "# the unique values are mixed with strings and integers\n",
    "# there are some rows that contain chars not only integers\n",
    "# the data type need to change to int also removing CE that is next to year"
   ]
  },
  {
   "cell_type": "code",
   "execution_count": 20,
   "metadata": {
    "execution": {
     "iopub.execute_input": "2024-08-15T16:45:11.302508Z",
     "iopub.status.busy": "2024-08-15T16:45:11.302103Z",
     "iopub.status.idle": "2024-08-15T16:45:11.352678Z",
     "shell.execute_reply": "2024-08-15T16:45:11.351330Z",
     "shell.execute_reply.started": "2024-08-15T16:45:11.302474Z"
    }
   },
   "outputs": [],
   "source": [
    "# Step 1: convert all to string\n",
    "data['Year']=data['Year'].astype(str)\n",
    "# Step 2: Remove 'CE' suffix and strip whitespace\n",
    "data['Year']=data['Year'].str.replace(' CE','').str.strip()\n",
    "# Step 3: Convert to integer\n",
    "data['Year']=data['Year'].astype(int)"
   ]
  },
  {
   "cell_type": "code",
   "execution_count": 21,
   "metadata": {
    "execution": {
     "iopub.execute_input": "2024-08-15T16:46:35.651625Z",
     "iopub.status.busy": "2024-08-15T16:46:35.651202Z",
     "iopub.status.idle": "2024-08-15T16:46:35.661985Z",
     "shell.execute_reply": "2024-08-15T16:46:35.660605Z",
     "shell.execute_reply.started": "2024-08-15T16:46:35.651590Z"
    }
   },
   "outputs": [
    {
     "data": {
      "text/plain": [
       "array([2011, 2007, 2021, 2016, 2018, 2020, 2022, 1923, 1924, 1925, 1926,\n",
       "       1927, 2009, 2010, 2014, 2008, 2019, 2012, 2013, 2040, 1957, 1958,\n",
       "       1955, 1956, 1952, 1953, 1954, 1959, 1960, 2077, 2003, 3019, 1961,\n",
       "       1962, 1963, 1964, 1965, 1966, 1967, 1968, 1969, 1971, 1972, 1970,\n",
       "       1974, 2005, 2015, 2006, 1922, 1928, 1949, 1950, 1951, 2001, 2017,\n",
       "       1986, 1999, 1985, 1987, 1996, 1991, 1988, 1989, 1990, 1992, 2004,\n",
       "       2002, 1997, 1998, 2000, 1993, 1984, 1995, 1948, 1937, 1938, 1931,\n",
       "       1901, 1902, 1903, 1913, 1914, 1915, 1916, 1918, 1932, 1933, 1934,\n",
       "       1935, 1936, 1939, 1940, 1941, 1942, 1943, 1944, 1945, 1946, 1947,\n",
       "       1898, 1910, 1929, 1975, 1976, 1973, 1977, 1978, 1979, 1980, 1982,\n",
       "       1983, 1981, 1917, 1919, 1994, 1930, 1897, 1920, 1921, 1899, 1900,\n",
       "       1904, 1896, 1911, 1912, 1909, 1905, 1906, 1907, 1908, 1894, 1895])"
      ]
     },
     "execution_count": 21,
     "metadata": {},
     "output_type": "execute_result"
    }
   ],
   "source": [
    "#check\n",
    "data['Year'].unique()"
   ]
  },
  {
   "cell_type": "markdown",
   "metadata": {},
   "source": [
    "# Out of range values"
   ]
  },
  {
   "cell_type": "code",
   "execution_count": 22,
   "metadata": {
    "execution": {
     "iopub.execute_input": "2024-08-15T16:46:37.638052Z",
     "iopub.status.busy": "2024-08-15T16:46:37.637566Z",
     "iopub.status.idle": "2024-08-15T16:46:38.144994Z",
     "shell.execute_reply": "2024-08-15T16:46:38.143444Z",
     "shell.execute_reply.started": "2024-08-15T16:46:37.637999Z"
    }
   },
   "outputs": [],
   "source": [
    " # there is an outlier so we need to deal with it"
   ]
  },
  {
   "cell_type": "code",
   "execution_count": 23,
   "metadata": {
    "execution": {
     "iopub.execute_input": "2024-08-15T16:46:38.148160Z",
     "iopub.status.busy": "2024-08-15T16:46:38.147735Z",
     "iopub.status.idle": "2024-08-15T16:46:38.158664Z",
     "shell.execute_reply": "2024-08-15T16:46:38.157370Z",
     "shell.execute_reply.started": "2024-08-15T16:46:38.148124Z"
    }
   },
   "outputs": [
    {
     "data": {
      "text/plain": [
       "<seaborn.axisgrid.FacetGrid at 0x246114a9bd0>"
      ]
     },
     "execution_count": 23,
     "metadata": {},
     "output_type": "execute_result"
    },
    {
     "data": {
      "image/png": "[encoded data removed]",
      "text/plain": [
       "<Figure size 500x500 with 1 Axes>"
      ]
     },
     "metadata": {},
     "output_type": "display_data"
    }
   ],
   "source": [
    "sns.catplot(data=data,x='Year')\n",
    "# as we can see there is out of range data so we will replace it with 2024"
   ]
  },
  {
   "cell_type": "code",
   "execution_count": 24,
   "metadata": {
    "execution": {
     "iopub.execute_input": "2024-08-15T16:46:39.859277Z",
     "iopub.status.busy": "2024-08-15T16:46:39.858791Z",
     "iopub.status.idle": "2024-08-15T16:46:39.871087Z",
     "shell.execute_reply": "2024-08-15T16:46:39.869133Z",
     "shell.execute_reply.started": "2024-08-15T16:46:39.859242Z"
    }
   },
   "outputs": [],
   "source": [
    "data['Year'][data['Year']>2024]=2024\n",
    "# this is a hard coded we can do the same thing using dynamic code :\n",
    "# df1['Year'][df1['Year']>2024]= dt.now().year"
   ]
  },
  {
   "cell_type": "markdown",
   "metadata": {},
   "source": [
    "# Unique Inconsistency"
   ]
  },
  {
   "cell_type": "code",
   "execution_count": 25,
   "metadata": {
    "execution": {
     "iopub.execute_input": "2024-08-15T16:46:41.884319Z",
     "iopub.status.busy": "2024-08-15T16:46:41.883796Z",
     "iopub.status.idle": "2024-08-15T16:46:41.896970Z",
     "shell.execute_reply": "2024-08-15T16:46:41.895574Z",
     "shell.execute_reply.started": "2024-08-15T16:46:41.884282Z"
    }
   },
   "outputs": [
    {
     "data": {
      "text/plain": [
       "array(['Liquids', 'Air', 'air', 'Oil and air'], dtype=object)"
      ]
     },
     "execution_count": 25,
     "metadata": {},
     "output_type": "execute_result"
    }
   ],
   "source": [
    "data['Cooling system'].unique()\n",
    "# there are words that have the same meaning so we need to clean that ( Ex : Air - air)"
   ]
  },
  {
   "cell_type": "code",
   "execution_count": 26,
   "metadata": {
    "execution": {
     "iopub.execute_input": "2024-08-15T16:47:24.773850Z",
     "iopub.status.busy": "2024-08-15T16:47:24.773295Z",
     "iopub.status.idle": "2024-08-15T16:47:24.799368Z",
     "shell.execute_reply": "2024-08-15T16:47:24.797120Z",
     "shell.execute_reply.started": "2024-08-15T16:47:24.773793Z"
    }
   },
   "outputs": [],
   "source": [
    " #clean the air values\n",
    "data['Cooling system'].replace('air','Air',inplace=True)"
   ]
  },
  {
   "cell_type": "code",
   "execution_count": 27,
   "metadata": {
    "execution": {
     "iopub.execute_input": "2024-08-15T16:47:45.207755Z",
     "iopub.status.busy": "2024-08-15T16:47:45.207314Z",
     "iopub.status.idle": "2024-08-15T16:47:45.541138Z",
     "shell.execute_reply": "2024-08-15T16:47:45.539958Z",
     "shell.execute_reply.started": "2024-08-15T16:47:45.207711Z"
    }
   },
   "outputs": [
    {
     "data": {
      "text/plain": [
       "<Axes: xlabel='Cooling system', ylabel='count'>"
      ]
     },
     "execution_count": 27,
     "metadata": {},
     "output_type": "execute_result"
    },
    {
     "data": {
      "image/png": "[encoded data removed]",
      "text/plain": [
       "<Figure size 640x480 with 1 Axes>"
      ]
     },
     "metadata": {},
     "output_type": "display_data"
    }
   ],
   "source": [
    "#Visulaize it\n",
    "sns.countplot(data=data,x='Cooling system',palette='Blues')"
   ]
  },
  {
   "cell_type": "markdown",
   "metadata": {},
   "source": [
    "# Dealing with Dates"
   ]
  },
  {
   "cell_type": "markdown",
   "metadata": {},
   "source": [
    "##  since there is no dates in this data so we have to upload another one that have date\n",
    "### we need to check the data type , how to extract month , day , year from it "
   ]
  },
  {
   "cell_type": "code",
   "execution_count": 28,
   "metadata": {
    "execution": {
     "iopub.execute_input": "2024-08-15T17:17:58.799253Z",
     "iopub.status.busy": "2024-08-15T17:17:58.798777Z",
     "iopub.status.idle": "2024-08-15T17:17:58.821525Z",
     "shell.execute_reply": "2024-08-15T17:17:58.819980Z",
     "shell.execute_reply.started": "2024-08-15T17:17:58.799218Z"
    }
   },
   "outputs": [],
   "source": [
    "df=pd.read_csv(\"index.csv\")"
   ]
  },
  {
   "cell_type": "code",
   "execution_count": 29,
   "metadata": {},
   "outputs": [
    {
     "data": {
      "text/html": [
       "<div>\n",
       "<style scoped>\n",
       "    .dataframe tbody tr th:only-of-type {\n",
       "        vertical-align: middle;\n",
       "    }\n",
       "\n",
       "    .dataframe tbody tr th {\n",
       "        vertical-align: top;\n",
       "    }\n",
       "\n",
       "    .dataframe thead th {\n",
       "        text-align: right;\n",
       "    }\n",
       "</style>\n",
       "<table border=\"1\" class=\"dataframe\">\n",
       "  <thead>\n",
       "    <tr style=\"text-align: right;\">\n",
       "      <th></th>\n",
       "      <th>date</th>\n",
       "      <th>datetime</th>\n",
       "      <th>cash_type</th>\n",
       "      <th>card</th>\n",
       "      <th>money</th>\n",
       "      <th>coffee_name</th>\n",
       "    </tr>\n",
       "  </thead>\n",
       "  <tbody>\n",
       "    <tr>\n",
       "      <th>0</th>\n",
       "      <td>2024-03-01</td>\n",
       "      <td>2024-03-01 10:15:50.520</td>\n",
       "      <td>card</td>\n",
       "      <td>ANON-0000-0000-0001</td>\n",
       "      <td>38.7</td>\n",
       "      <td>Latte</td>\n",
       "    </tr>\n",
       "    <tr>\n",
       "      <th>1</th>\n",
       "      <td>2024-03-01</td>\n",
       "      <td>2024-03-01 12:19:22.539</td>\n",
       "      <td>card</td>\n",
       "      <td>ANON-0000-0000-0002</td>\n",
       "      <td>38.7</td>\n",
       "      <td>Hot Chocolate</td>\n",
       "    </tr>\n",
       "    <tr>\n",
       "      <th>2</th>\n",
       "      <td>2024-03-01</td>\n",
       "      <td>2024-03-01 12:20:18.089</td>\n",
       "      <td>card</td>\n",
       "      <td>ANON-0000-0000-0002</td>\n",
       "      <td>38.7</td>\n",
       "      <td>Hot Chocolate</td>\n",
       "    </tr>\n",
       "    <tr>\n",
       "      <th>3</th>\n",
       "      <td>2024-03-01</td>\n",
       "      <td>2024-03-01 13:46:33.006</td>\n",
       "      <td>card</td>\n",
       "      <td>ANON-0000-0000-0003</td>\n",
       "      <td>28.9</td>\n",
       "      <td>Americano</td>\n",
       "    </tr>\n",
       "    <tr>\n",
       "      <th>4</th>\n",
       "      <td>2024-03-01</td>\n",
       "      <td>2024-03-01 13:48:14.626</td>\n",
       "      <td>card</td>\n",
       "      <td>ANON-0000-0000-0004</td>\n",
       "      <td>38.7</td>\n",
       "      <td>Latte</td>\n",
       "    </tr>\n",
       "  </tbody>\n",
       "</table>\n",
       "</div>"
      ],
      "text/plain": [
       "         date                 datetime cash_type                 card  money  \\\n",
       "0  2024-03-01  2024-03-01 10:15:50.520      card  ANON-0000-0000-0001   38.7   \n",
       "1  2024-03-01  2024-03-01 12:19:22.539      card  ANON-0000-0000-0002   38.7   \n",
       "2  2024-03-01  2024-03-01 12:20:18.089      card  ANON-0000-0000-0002   38.7   \n",
       "3  2024-03-01  2024-03-01 13:46:33.006      card  ANON-0000-0000-0003   28.9   \n",
       "4  2024-03-01  2024-03-01 13:48:14.626      card  ANON-0000-0000-0004   38.7   \n",
       "\n",
       "     coffee_name  \n",
       "0          Latte  \n",
       "1  Hot Chocolate  \n",
       "2  Hot Chocolate  \n",
       "3      Americano  \n",
       "4          Latte  "
      ]
     },
     "execution_count": 29,
     "metadata": {},
     "output_type": "execute_result"
    }
   ],
   "source": [
    "df.head()"
   ]
  },
  {
   "cell_type": "code",
   "execution_count": 30,
   "metadata": {},
   "outputs": [
    {
     "name": "stdout",
     "output_type": "stream",
     "text": [
      "<class 'pandas.core.frame.DataFrame'>\n",
      "RangeIndex: 1208 entries, 0 to 1207\n",
      "Data columns (total 6 columns):\n",
      " #   Column       Non-Null Count  Dtype  \n",
      "---  ------       --------------  -----  \n",
      " 0   date         1208 non-null   object \n",
      " 1   datetime     1208 non-null   object \n",
      " 2   cash_type    1208 non-null   object \n",
      " 3   card         1119 non-null   object \n",
      " 4   money        1208 non-null   float64\n",
      " 5   coffee_name  1208 non-null   object \n",
      "dtypes: float64(1), object(5)\n",
      "memory usage: 56.8+ KB\n"
     ]
    }
   ],
   "source": [
    "df.info()"
   ]
  },
  {
   "cell_type": "markdown",
   "metadata": {},
   "source": [
    "what i noticed:\n",
    "* there are two values of dates that need to convert their type to date\n",
    "* card column has also a missing values that need to be dealt with"
   ]
  },
  {
   "cell_type": "code",
   "execution_count": 31,
   "metadata": {
    "execution": {
     "iopub.execute_input": "2024-08-15T17:33:49.234155Z",
     "iopub.status.busy": "2024-08-15T17:33:49.232451Z",
     "iopub.status.idle": "2024-08-15T17:33:49.274248Z",
     "shell.execute_reply": "2024-08-15T17:33:49.272719Z",
     "shell.execute_reply.started": "2024-08-15T17:33:49.234094Z"
    }
   },
   "outputs": [
    {
     "name": "stdout",
     "output_type": "stream",
     "text": [
      "<class 'pandas.core.frame.DataFrame'>\n",
      "RangeIndex: 1208 entries, 0 to 1207\n",
      "Data columns (total 6 columns):\n",
      " #   Column       Non-Null Count  Dtype         \n",
      "---  ------       --------------  -----         \n",
      " 0   date         1208 non-null   datetime64[ns]\n",
      " 1   datetime     1208 non-null   datetime64[ns]\n",
      " 2   cash_type    1208 non-null   object        \n",
      " 3   card         1119 non-null   object        \n",
      " 4   money        1208 non-null   float64       \n",
      " 5   coffee_name  1208 non-null   object        \n",
      "dtypes: datetime64[ns](2), float64(1), object(3)\n",
      "memory usage: 56.8+ KB\n"
     ]
    }
   ],
   "source": [
    "df['date']=pd.to_datetime(df['date'],errors='coerce')\n",
    "df['datetime']=pd.to_datetime(df['datetime'],errors='coerce')\n",
    "# errors = coerce will make it return nan values for values that can't be converted\n",
    " # see the data\n",
    "df.info()"
   ]
  },
  {
   "cell_type": "code",
   "execution_count": 32,
   "metadata": {
    "execution": {
     "iopub.execute_input": "2024-08-15T17:57:17.430650Z",
     "iopub.status.busy": "2024-08-15T17:57:17.430221Z",
     "iopub.status.idle": "2024-08-15T17:57:17.448392Z",
     "shell.execute_reply": "2024-08-15T17:57:17.446766Z",
     "shell.execute_reply.started": "2024-08-15T17:57:17.430615Z"
    }
   },
   "outputs": [],
   "source": [
    " # notice the data type of date and datetime"
   ]
  },
  {
   "cell_type": "code",
   "execution_count": 33,
   "metadata": {
    "execution": {
     "iopub.execute_input": "2024-08-15T17:54:54.133059Z",
     "iopub.status.busy": "2024-08-15T17:54:54.132601Z",
     "iopub.status.idle": "2024-08-15T17:54:54.158144Z",
     "shell.execute_reply": "2024-08-15T17:54:54.156856Z",
     "shell.execute_reply.started": "2024-08-15T17:54:54.133023Z"
    }
   },
   "outputs": [
    {
     "data": {
      "text/html": [
       "<div>\n",
       "<style scoped>\n",
       "    .dataframe tbody tr th:only-of-type {\n",
       "        vertical-align: middle;\n",
       "    }\n",
       "\n",
       "    .dataframe tbody tr th {\n",
       "        vertical-align: top;\n",
       "    }\n",
       "\n",
       "    .dataframe thead th {\n",
       "        text-align: right;\n",
       "    }\n",
       "</style>\n",
       "<table border=\"1\" class=\"dataframe\">\n",
       "  <thead>\n",
       "    <tr style=\"text-align: right;\">\n",
       "      <th></th>\n",
       "      <th>date</th>\n",
       "      <th>datetime</th>\n",
       "      <th>cash_type</th>\n",
       "      <th>card</th>\n",
       "      <th>money</th>\n",
       "      <th>coffee_name</th>\n",
       "      <th>year</th>\n",
       "      <th>month</th>\n",
       "      <th>day</th>\n",
       "      <th>hour</th>\n",
       "    </tr>\n",
       "  </thead>\n",
       "  <tbody>\n",
       "    <tr>\n",
       "      <th>0</th>\n",
       "      <td>2024-03-01</td>\n",
       "      <td>2024-03-01 10:15:50.520</td>\n",
       "      <td>card</td>\n",
       "      <td>ANON-0000-0000-0001</td>\n",
       "      <td>38.7</td>\n",
       "      <td>Latte</td>\n",
       "      <td>2024</td>\n",
       "      <td>3</td>\n",
       "      <td>1</td>\n",
       "      <td>10</td>\n",
       "    </tr>\n",
       "    <tr>\n",
       "      <th>1</th>\n",
       "      <td>2024-03-01</td>\n",
       "      <td>2024-03-01 12:19:22.539</td>\n",
       "      <td>card</td>\n",
       "      <td>ANON-0000-0000-0002</td>\n",
       "      <td>38.7</td>\n",
       "      <td>Hot Chocolate</td>\n",
       "      <td>2024</td>\n",
       "      <td>3</td>\n",
       "      <td>1</td>\n",
       "      <td>12</td>\n",
       "    </tr>\n",
       "    <tr>\n",
       "      <th>2</th>\n",
       "      <td>2024-03-01</td>\n",
       "      <td>2024-03-01 12:20:18.089</td>\n",
       "      <td>card</td>\n",
       "      <td>ANON-0000-0000-0002</td>\n",
       "      <td>38.7</td>\n",
       "      <td>Hot Chocolate</td>\n",
       "      <td>2024</td>\n",
       "      <td>3</td>\n",
       "      <td>1</td>\n",
       "      <td>12</td>\n",
       "    </tr>\n",
       "    <tr>\n",
       "      <th>3</th>\n",
       "      <td>2024-03-01</td>\n",
       "      <td>2024-03-01 13:46:33.006</td>\n",
       "      <td>card</td>\n",
       "      <td>ANON-0000-0000-0003</td>\n",
       "      <td>28.9</td>\n",
       "      <td>Americano</td>\n",
       "      <td>2024</td>\n",
       "      <td>3</td>\n",
       "      <td>1</td>\n",
       "      <td>13</td>\n",
       "    </tr>\n",
       "    <tr>\n",
       "      <th>4</th>\n",
       "      <td>2024-03-01</td>\n",
       "      <td>2024-03-01 13:48:14.626</td>\n",
       "      <td>card</td>\n",
       "      <td>ANON-0000-0000-0004</td>\n",
       "      <td>38.7</td>\n",
       "      <td>Latte</td>\n",
       "      <td>2024</td>\n",
       "      <td>3</td>\n",
       "      <td>1</td>\n",
       "      <td>13</td>\n",
       "    </tr>\n",
       "  </tbody>\n",
       "</table>\n",
       "</div>"
      ],
      "text/plain": [
       "        date                datetime cash_type                 card  money  \\\n",
       "0 2024-03-01 2024-03-01 10:15:50.520      card  ANON-0000-0000-0001   38.7   \n",
       "1 2024-03-01 2024-03-01 12:19:22.539      card  ANON-0000-0000-0002   38.7   \n",
       "2 2024-03-01 2024-03-01 12:20:18.089      card  ANON-0000-0000-0002   38.7   \n",
       "3 2024-03-01 2024-03-01 13:46:33.006      card  ANON-0000-0000-0003   28.9   \n",
       "4 2024-03-01 2024-03-01 13:48:14.626      card  ANON-0000-0000-0004   38.7   \n",
       "\n",
       "     coffee_name  year  month  day  hour  \n",
       "0          Latte  2024      3    1    10  \n",
       "1  Hot Chocolate  2024      3    1    12  \n",
       "2  Hot Chocolate  2024      3    1    12  \n",
       "3      Americano  2024      3    1    13  \n",
       "4          Latte  2024      3    1    13  "
      ]
     },
     "execution_count": 33,
     "metadata": {},
     "output_type": "execute_result"
    }
   ],
   "source": [
    "df['year']=df['datetime'].dt.year  # this will extract the year from the date\n",
    "df['month']=df['datetime'].dt.month # this will extract the month from the date\n",
    "df['day']=df['datetime'].dt.day  # this will extract the day from the date\n",
    "df['hour']=df['datetime'].dt.hour  # this will extract the hour from the date\n",
    "df.head()\n",
    "# now we can drop the two columns date and date time as we no longer need it , but i'll keep them"
   ]
  },
  {
   "cell_type": "markdown",
   "metadata": {},
   "source": [
    "### there are null values in card column lets clean it"
   ]
  },
  {
   "cell_type": "code",
   "execution_count": 34,
   "metadata": {
    "execution": {
     "iopub.execute_input": "2024-08-15T17:58:45.672373Z",
     "iopub.status.busy": "2024-08-15T17:58:45.671886Z",
     "iopub.status.idle": "2024-08-15T17:58:45.683152Z",
     "shell.execute_reply": "2024-08-15T17:58:45.681248Z",
     "shell.execute_reply.started": "2024-08-15T17:58:45.672338Z"
    }
   },
   "outputs": [],
   "source": [
    "# as the column is object we can impute it with mode\n",
    "df.fillna(df['card'].mode()[0],inplace=True)"
   ]
  },
  {
   "cell_type": "code",
   "execution_count": 35,
   "metadata": {
    "execution": {
     "iopub.execute_input": "2024-08-15T17:58:51.361000Z",
     "iopub.status.busy": "2024-08-15T17:58:51.360550Z",
     "iopub.status.idle": "2024-08-15T17:58:51.379347Z",
     "shell.execute_reply": "2024-08-15T17:58:51.378054Z",
     "shell.execute_reply.started": "2024-08-15T17:58:51.360945Z"
    }
   },
   "outputs": [
    {
     "name": "stdout",
     "output_type": "stream",
     "text": [
      "<class 'pandas.core.frame.DataFrame'>\n",
      "RangeIndex: 1208 entries, 0 to 1207\n",
      "Data columns (total 10 columns):\n",
      " #   Column       Non-Null Count  Dtype         \n",
      "---  ------       --------------  -----         \n",
      " 0   date         1208 non-null   datetime64[ns]\n",
      " 1   datetime     1208 non-null   datetime64[ns]\n",
      " 2   cash_type    1208 non-null   object        \n",
      " 3   card         1208 non-null   object        \n",
      " 4   money        1208 non-null   float64       \n",
      " 5   coffee_name  1208 non-null   object        \n",
      " 6   year         1208 non-null   int32         \n",
      " 7   month        1208 non-null   int32         \n",
      " 8   day          1208 non-null   int32         \n",
      " 9   hour         1208 non-null   int32         \n",
      "dtypes: datetime64[ns](2), float64(1), int32(4), object(3)\n",
      "memory usage: 75.6+ KB\n"
     ]
    }
   ],
   "source": [
    "#check\n",
    "df.info()"
   ]
  },
  {
   "cell_type": "markdown",
   "metadata": {},
   "source": [
    "# This is the END of Cleaning Notebook , Thanks"
   ]
  }
 ],
 "metadata": {
  "kaggle": {
   "accelerator": "none",
   "dataSources": [
    {
     "datasetId": 5548922,
     "sourceId": 9180715,
     "sourceType": "datasetVersion"
    },
    {
     "datasetId": 5532868,
     "sourceId": 9158375,
     "sourceType": "datasetVersion"
    }
   ],
   "dockerImageVersionId": 30746,
   "isGpuEnabled": false,
   "isInternetEnabled": true,
   "language": "python",
   "sourceType": "notebook"
  },
  "kernelspec": {
   "display_name": "Python 3 (ipykernel)",
   "language": "python",
   "name": "python3"
  },
  "language_info": {
   "codemirror_mode": {
    "name": "ipython",
    "version": 3
   },
   "file_extension": ".py",
   "mimetype": "text/x-python",
   "name": "python",
   "nbconvert_exporter": "python",
   "pygments_lexer": "ipython3",
   "version": "3.11.4"
  }
 },
 "nbformat": 4,
 "nbformat_minor": 4
}
